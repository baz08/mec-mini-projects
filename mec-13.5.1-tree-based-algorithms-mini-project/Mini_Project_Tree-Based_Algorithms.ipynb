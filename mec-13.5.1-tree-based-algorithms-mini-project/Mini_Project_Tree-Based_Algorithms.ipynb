{
 "cells": [
  {
   "cell_type": "markdown",
   "metadata": {},
   "source": [
    "# Mini Project: Tree-Based Algorithms"
   ]
  },
  {
   "cell_type": "markdown",
   "metadata": {},
   "source": [
    "## The \"German Credit\" Dataset"
   ]
  },
  {
   "cell_type": "markdown",
   "metadata": {},
   "source": [
    "### Dataset Details"
   ]
  },
  {
   "cell_type": "markdown",
   "metadata": {},
   "source": [
    "This dataset has two classes (these would be considered labels in Machine Learning terms) to describe the worthiness of a personal loan: \"Good\" or \"Bad\". There are predictors related to attributes, such as: checking account status, duration, credit history, purpose of the loan, amount of the loan, savings accounts or bonds, employment duration, installment rate in percentage of disposable income, personal information, other debtors/guarantors, residence duration, property, age, other installment plans, housing, number of existing credits, job information, number of people being liable to provide maintenance for, telephone, and foreign worker status.\n",
    "\n",
    "Many of these predictors are discrete and have been expanded into several 0/1 indicator variables (a.k.a. they have been one-hot-encoded).\n",
    "\n",
    "This dataset has been kindly provided by Professor Dr. Hans Hofmann of the University of Hamburg, and can also be found on the UCI Machine Learning Repository."
   ]
  },
  {
   "cell_type": "markdown",
   "metadata": {},
   "source": [
    "\n",
    "\n",
    "\n"
   ]
  },
  {
   "cell_type": "markdown",
   "metadata": {},
   "source": [
    "## Decision Trees"
   ]
  },
  {
   "cell_type": "markdown",
   "metadata": {},
   "source": [
    " As we have learned in the previous lectures, Decision Trees as a family of algorithms (irrespective to the particular implementation) are powerful algorithms that can produce models with a predictive accuracy higher than that produced by linear models, such as Linear or Logistic Regression. Primarily, this is due to the fact the DT's can model nonlinear relationships, and also have a number of tuning paramters, that allow for the practicioner to achieve the best possible model. An added bonus is the ability to visualize the trained Decision Tree model, which allows for some insight into how the model has produced the predictions that it has. One caveat here, to keep in mind, is that sometimes, due to the size of the dataset (both in the sense of the number of records, as well as the number of features), the visualization might prove to be very large and complex, increasing the difficulty of interpretation."
   ]
  },
  {
   "cell_type": "markdown",
   "metadata": {},
   "source": [
    "To give you a very good example of how Decision Trees can be visualized and interpreted, we would strongly recommend that, before continuing on with solving the problems in this Mini Project, you take the time to read this fanstastic, detailed and informative blog post: http://explained.ai/decision-tree-viz/index.html"
   ]
  },
  {
   "cell_type": "markdown",
   "metadata": {},
   "source": [
    "## Building Your First Decision Tree Model"
   ]
  },
  {
   "cell_type": "markdown",
   "metadata": {},
   "source": [
    "So, now it's time to jump straight into the heart of the matter. Your first task, is to build a Decision Tree model, using the aforementioned \"German Credit\" dataset, which contains 1,000 records, and 62 columns (one of them presents the labels, and the other 61 present the potential features for the model.)"
   ]
  },
  {
   "cell_type": "markdown",
   "metadata": {},
   "source": [
    "For this task, you will be using the scikit-learn library, which comes already pre-installed with the Anaconda Python distribution. In case you're not using that, you can easily install it using pip."
   ]
  },
  {
   "cell_type": "markdown",
   "metadata": {},
   "source": [
    "Before embarking on creating your first model, we would strongly encourage you to read the short tutorial for Decision Trees in scikit-learn (http://scikit-learn.org/stable/modules/tree.html), and then dive a bit deeper into the documentation of the algorithm itself (http://scikit-learn.org/stable/modules/generated/sklearn.tree.DecisionTreeClassifier.html). "
   ]
  },
  {
   "cell_type": "markdown",
   "metadata": {},
   "source": [
    "Also, since you want to be able to present the results of your model, we suggest you take a look at the tutorial for accuracy metrics for classification models (http://scikit-learn.org/stable/modules/model_evaluation.html#classification-report) as well as the more detailed documentation (http://scikit-learn.org/stable/modules/generated/sklearn.metrics.classification_report.html).\n",
    "\n",
    "Finally, an *amazing* resource that explains the various classification model accuracy metrics, as well as the relationships between them, can be found on Wikipedia: https://en.wikipedia.org/wiki/Confusion_matrix"
   ]
  },
  {
   "cell_type": "markdown",
   "metadata": {},
   "source": [
    "(Note: as you've already learned in the Logistic Regression mini project, a standard practice in Machine Learning for achieving the best possible result when training a model is to use hyperparameter tuning, through Grid Search and k-fold Cross Validation. We strongly encourage you to use it here as well, not just because it's standard practice, but also becuase it's not going to be computationally to intensive, due to the size of the dataset that you're working with. Our suggestion here is that you split the data into 70% training, and 30% testing. Then, do the hyperparameter tuning and Cross Validation on the training set, and afterwards to a final test on the testing set.)"
   ]
  },
  {
   "cell_type": "markdown",
   "metadata": {},
   "source": [
    "### Now we pass the torch onto you! You can start building your first Decision Tree model! :)"
   ]
  },
  {
   "cell_type": "code",
   "execution_count": 2,
   "metadata": {},
   "outputs": [],
   "source": [
    "import pandas as pd\n",
    "from sklearn.tree import DecisionTreeClassifier\n",
    "from sklearn.metrics import classification_report\n",
    "from sklearn.model_selection import train_test_split\n",
    "from sklearn.model_selection import GridSearchCV"
   ]
  },
  {
   "cell_type": "code",
   "execution_count": 21,
   "metadata": {},
   "outputs": [
    {
     "data": {
      "text/plain": [
       "GridSearchCV(estimator=DecisionTreeClassifier(),\n",
       "             param_grid={'criterion': ['gini', 'entropy'],\n",
       "                         'min_samples_leaf': [1, 2, 5, 10, 50, 100]})"
      ]
     },
     "execution_count": 21,
     "metadata": {},
     "output_type": "execute_result"
    }
   ],
   "source": [
    "# Your code here! :)\n",
    "df = pd.read_csv('GermanCredit.csv')\n",
    "tree = DecisionTreeClassifier()\n",
    "\n",
    "X  = df.drop(columns = 'Class')\n",
    "y = df['Class']\n",
    "\n",
    "X_train, X_test, y_train, y_test = train_test_split(X, y, test_size = 0.3, random_state = 1)\n",
    "\n",
    "parameters = {\n",
    "    'criterion': ['gini', 'entropy'],\n",
    "    'min_samples_leaf': [1,2,5,10,50,100]\n",
    "}\n",
    "\n",
    "search = GridSearchCV(tree, parameters)\n",
    "\n",
    "search.fit(X_train, y_train)\n"
   ]
  },
  {
   "cell_type": "code",
   "execution_count": 31,
   "metadata": {},
   "outputs": [
    {
     "name": "stdout",
     "output_type": "stream",
     "text": [
      "Grid results: {'mean_fit_time': array([0.0040009 , 0.00380106, 0.00320063, 0.00300069, 0.00220037,\n",
      "       0.00200062, 0.00420051, 0.00420094, 0.004001  , 0.00320053,\n",
      "       0.00240064, 0.00200043]), 'std_fit_time': array([8.94362503e-04, 4.00042772e-04, 4.00257480e-04, 6.32862175e-04,\n",
      "       4.00066518e-04, 3.50402318e-07, 4.00042601e-04, 4.00662745e-04,\n",
      "       1.90734863e-07, 3.99828199e-04, 4.90173941e-04, 3.56832255e-07]), 'mean_score_time': array([0.00100055, 0.00099974, 0.00100012, 0.0012002 , 0.00100017,\n",
      "       0.00100026, 0.00140066, 0.00100031, 0.00100017, 0.00100026,\n",
      "       0.00100031, 0.00100017]), 'std_score_time': array([7.32531142e-07, 4.86280395e-07, 2.33601546e-07, 4.00305093e-04,\n",
      "       3.01578299e-07, 2.43140197e-07, 4.89628840e-04, 4.42200589e-07,\n",
      "       1.50789149e-07, 2.43140197e-07, 4.15696997e-07, 5.00111031e-07]), 'param_criterion': masked_array(data=['gini', 'gini', 'gini', 'gini', 'gini', 'gini',\n",
      "                   'entropy', 'entropy', 'entropy', 'entropy', 'entropy',\n",
      "                   'entropy'],\n",
      "             mask=[False, False, False, False, False, False, False, False,\n",
      "                   False, False, False, False],\n",
      "       fill_value='?',\n",
      "            dtype=object), 'param_min_samples_leaf': masked_array(data=[1, 2, 5, 10, 50, 100, 1, 2, 5, 10, 50, 100],\n",
      "             mask=[False, False, False, False, False, False, False, False,\n",
      "                   False, False, False, False],\n",
      "       fill_value='?',\n",
      "            dtype=object), 'params': [{'criterion': 'gini', 'min_samples_leaf': 1}, {'criterion': 'gini', 'min_samples_leaf': 2}, {'criterion': 'gini', 'min_samples_leaf': 5}, {'criterion': 'gini', 'min_samples_leaf': 10}, {'criterion': 'gini', 'min_samples_leaf': 50}, {'criterion': 'gini', 'min_samples_leaf': 100}, {'criterion': 'entropy', 'min_samples_leaf': 1}, {'criterion': 'entropy', 'min_samples_leaf': 2}, {'criterion': 'entropy', 'min_samples_leaf': 5}, {'criterion': 'entropy', 'min_samples_leaf': 10}, {'criterion': 'entropy', 'min_samples_leaf': 50}, {'criterion': 'entropy', 'min_samples_leaf': 100}], 'split0_test_score': array([0.62142857, 0.62142857, 0.62857143, 0.67142857, 0.67142857,\n",
      "       0.67857143, 0.7       , 0.72857143, 0.72142857, 0.73571429,\n",
      "       0.70714286, 0.67857143]), 'split1_test_score': array([0.69285714, 0.68571429, 0.73571429, 0.67857143, 0.70714286,\n",
      "       0.72142857, 0.59285714, 0.58571429, 0.67142857, 0.68571429,\n",
      "       0.70714286, 0.72142857]), 'split2_test_score': array([0.62142857, 0.6       , 0.62857143, 0.67142857, 0.67142857,\n",
      "       0.65      , 0.67142857, 0.65714286, 0.62857143, 0.67857143,\n",
      "       0.66428571, 0.65      ]), 'split3_test_score': array([0.60714286, 0.63571429, 0.62142857, 0.70714286, 0.69285714,\n",
      "       0.7       , 0.67142857, 0.69285714, 0.66428571, 0.68571429,\n",
      "       0.69285714, 0.7       ]), 'split4_test_score': array([0.69285714, 0.70714286, 0.67857143, 0.70714286, 0.69285714,\n",
      "       0.75714286, 0.72142857, 0.74285714, 0.77857143, 0.71428571,\n",
      "       0.69285714, 0.72857143]), 'mean_test_score': array([0.64714286, 0.65      , 0.65857143, 0.68714286, 0.68714286,\n",
      "       0.70142857, 0.67142857, 0.68142857, 0.69285714, 0.7       ,\n",
      "       0.69285714, 0.69571429]), 'std_test_score': array([0.0376883 , 0.04015277, 0.04365916, 0.01653691, 0.01385051,\n",
      "       0.03653346, 0.04356557, 0.05635167, 0.05209881, 0.02166536,\n",
      "       0.01564922, 0.02878492]), 'rank_test_score': array([12, 11, 10,  6,  6,  1,  9,  8,  4,  2,  4,  3])}\n",
      "best score:  0.7014285714285714\n",
      "best params:  {'criterion': 'gini', 'min_samples_leaf': 100}\n"
     ]
    }
   ],
   "source": [
    "print('Grid results:', search.cv_results_)\n",
    "print('best score: ', search.best_score_)\n",
    "print('best params: ', search.best_params_)"
   ]
  },
  {
   "cell_type": "code",
   "execution_count": 32,
   "metadata": {},
   "outputs": [
    {
     "data": {
      "text/plain": [
       "0.72"
      ]
     },
     "execution_count": 32,
     "metadata": {},
     "output_type": "execute_result"
    }
   ],
   "source": [
    "tree = DecisionTreeClassifier(random_state = 2, criterion = 'gini', min_samples_leaf=100)\n",
    "tree.fit(X_train, y_train)\n",
    "tree.score(X_test, y_test)"
   ]
  },
  {
   "cell_type": "raw",
   "metadata": {},
   "source": []
  },
  {
   "cell_type": "markdown",
   "metadata": {},
   "source": [
    "### After you've built the best model you can, now it's time to visualize it!"
   ]
  },
  {
   "cell_type": "markdown",
   "metadata": {},
   "source": [
    "Rememeber that amazing blog post from a few paragraphs ago, that demonstrated how to visualize and interpret the results of your Decision Tree model. We've seen that this can perform very well, but let's see how it does on the \"German Credit\" dataset that we're working on, due to it being a bit larger than the one used by the blog authors."
   ]
  },
  {
   "cell_type": "markdown",
   "metadata": {},
   "source": [
    "First, we're going to need to install their package. If you're using Anaconda, this can be done easily by running:"
   ]
  },
  {
   "cell_type": "code",
   "execution_count": 25,
   "metadata": {},
   "outputs": [
    {
     "name": "stdout",
     "output_type": "stream",
     "text": [
      "Defaulting to user installation because normal site-packages is not writeable"
     ]
    },
    {
     "name": "stderr",
     "output_type": "stream",
     "text": [
      "  WARNING: The scripts py.test.exe and pytest.exe are installed in 'C:\\Users\\Barrett\\AppData\\Roaming\\Python\\Python37\\Scripts' which is not on PATH.\n",
      "  Consider adding this directory to PATH or, if you prefer to suppress this warning, use --no-warn-script-location.\n"
     ]
    },
    {
     "name": "stdout",
     "output_type": "stream",
     "text": [
      "\n",
      "Collecting dtreeviz\n",
      "  Downloading dtreeviz-1.3.7.tar.gz (62 kB)\n",
      "Collecting graphviz>=0.9\n",
      "  Downloading graphviz-0.20.1-py3-none-any.whl (47 kB)\n",
      "Requirement already satisfied: pandas in c:\\programdata\\anaconda3\\envs\\mec-miniprojects\\lib\\site-packages (from dtreeviz) (1.3.5)\n",
      "Requirement already satisfied: numpy in c:\\programdata\\anaconda3\\envs\\mec-miniprojects\\lib\\site-packages (from dtreeviz) (1.21.6)\n",
      "Requirement already satisfied: scikit-learn in c:\\users\\barrett\\appdata\\roaming\\python\\python37\\site-packages (from dtreeviz) (1.0.2)\n",
      "Requirement already satisfied: matplotlib in c:\\users\\barrett\\appdata\\roaming\\python\\python37\\site-packages (from dtreeviz) (3.5.2)\n",
      "Collecting colour\n",
      "  Downloading colour-0.1.5-py2.py3-none-any.whl (23 kB)\n",
      "Collecting pytest\n",
      "  Downloading pytest-7.1.3-py3-none-any.whl (298 kB)\n",
      "Requirement already satisfied: cycler>=0.10 in c:\\users\\barrett\\appdata\\roaming\\python\\python37\\site-packages (from matplotlib->dtreeviz) (0.11.0)\n",
      "Requirement already satisfied: python-dateutil>=2.7 in c:\\programdata\\anaconda3\\envs\\mec-miniprojects\\lib\\site-packages (from matplotlib->dtreeviz) (2.8.2)\n",
      "Requirement already satisfied: pillow>=6.2.0 in c:\\users\\barrett\\appdata\\roaming\\python\\python37\\site-packages (from matplotlib->dtreeviz) (9.2.0)\n",
      "Requirement already satisfied: kiwisolver>=1.0.1 in c:\\users\\barrett\\appdata\\roaming\\python\\python37\\site-packages (from matplotlib->dtreeviz) (1.4.3)\n",
      "Requirement already satisfied: packaging>=20.0 in c:\\programdata\\anaconda3\\envs\\mec-miniprojects\\lib\\site-packages (from matplotlib->dtreeviz) (21.3)\n",
      "Requirement already satisfied: fonttools>=4.22.0 in c:\\users\\barrett\\appdata\\roaming\\python\\python37\\site-packages (from matplotlib->dtreeviz) (4.34.2)\n",
      "Requirement already satisfied: pyparsing>=2.2.1 in c:\\programdata\\anaconda3\\envs\\mec-miniprojects\\lib\\site-packages (from matplotlib->dtreeviz) (3.0.4)\n",
      "Requirement already satisfied: typing-extensions in c:\\programdata\\anaconda3\\envs\\mec-miniprojects\\lib\\site-packages (from kiwisolver>=1.0.1->matplotlib->dtreeviz) (4.1.1)\n",
      "Requirement already satisfied: six>=1.5 in c:\\programdata\\anaconda3\\envs\\mec-miniprojects\\lib\\site-packages (from python-dateutil>=2.7->matplotlib->dtreeviz) (1.16.0)\n",
      "Requirement already satisfied: pytz>=2017.3 in c:\\programdata\\anaconda3\\envs\\mec-miniprojects\\lib\\site-packages (from pandas->dtreeviz) (2022.1)\n",
      "Requirement already satisfied: colorama in c:\\programdata\\anaconda3\\envs\\mec-miniprojects\\lib\\site-packages (from pytest->dtreeviz) (0.4.4)\n",
      "Requirement already satisfied: importlib-metadata>=0.12 in c:\\programdata\\anaconda3\\envs\\mec-miniprojects\\lib\\site-packages (from pytest->dtreeviz) (4.11.3)\n",
      "Collecting iniconfig\n",
      "  Downloading iniconfig-1.1.1-py2.py3-none-any.whl (5.0 kB)\n",
      "Collecting pluggy<2.0,>=0.12\n",
      "  Downloading pluggy-1.0.0-py2.py3-none-any.whl (13 kB)\n",
      "Collecting py>=1.8.2\n",
      "  Downloading py-1.11.0-py2.py3-none-any.whl (98 kB)\n",
      "Collecting tomli>=1.0.0\n",
      "  Using cached tomli-2.0.1-py3-none-any.whl (12 kB)\n",
      "Requirement already satisfied: attrs>=19.2.0 in c:\\programdata\\anaconda3\\envs\\mec-miniprojects\\lib\\site-packages (from pytest->dtreeviz) (21.4.0)\n",
      "Requirement already satisfied: zipp>=0.5 in c:\\programdata\\anaconda3\\envs\\mec-miniprojects\\lib\\site-packages (from importlib-metadata>=0.12->pytest->dtreeviz) (3.8.0)\n",
      "Requirement already satisfied: scipy>=1.1.0 in c:\\users\\barrett\\appdata\\roaming\\python\\python37\\site-packages (from scikit-learn->dtreeviz) (1.7.3)\n",
      "Requirement already satisfied: joblib>=0.11 in c:\\users\\barrett\\appdata\\roaming\\python\\python37\\site-packages (from scikit-learn->dtreeviz) (1.1.0)\n",
      "Requirement already satisfied: threadpoolctl>=2.0.0 in c:\\users\\barrett\\appdata\\roaming\\python\\python37\\site-packages (from scikit-learn->dtreeviz) (3.1.0)\n",
      "Building wheels for collected packages: dtreeviz\n",
      "  Building wheel for dtreeviz (setup.py): started\n",
      "  Building wheel for dtreeviz (setup.py): finished with status 'done'\n",
      "  Created wheel for dtreeviz: filename=dtreeviz-1.3.7-py3-none-any.whl size=68151 sha256=508e9abb64ae4ad6e66d316a7d9191c760b8e46f6147bc3ac29179639cf2e8b2\n",
      "  Stored in directory: c:\\users\\barrett\\appdata\\local\\pip\\cache\\wheels\\bf\\ba\\9f\\87c689d8d3c2916793f2dccc57d3dc3b283e0ccf8cb4ca4cad\n",
      "Successfully built dtreeviz\n",
      "Installing collected packages: tomli, py, pluggy, iniconfig, pytest, graphviz, colour, dtreeviz\n",
      "Successfully installed colour-0.1.5 dtreeviz-1.3.7 graphviz-0.20.1 iniconfig-1.1.1 pluggy-1.0.0 py-1.11.0 pytest-7.1.3 tomli-2.0.1\n"
     ]
    }
   ],
   "source": [
    "! pip install dtreeviz"
   ]
  },
  {
   "cell_type": "markdown",
   "metadata": {},
   "source": [
    "If for any reason this way of installing doesn't work for you straight out of the box, please refer to the more detailed documentation here: https://github.com/parrt/dtreeviz"
   ]
  },
  {
   "cell_type": "markdown",
   "metadata": {},
   "source": [
    "Now you're ready to visualize your Decision Tree model! Please feel free to use the blog post for guidance and inspiration!"
   ]
  },
  {
   "cell_type": "code",
   "execution_count": 27,
   "metadata": {},
   "outputs": [
    {
     "name": "stderr",
     "output_type": "stream",
     "text": [
      "C:\\Users\\Barrett\\AppData\\Roaming\\Python\\Python37\\site-packages\\sklearn\\base.py:451: UserWarning: X does not have valid feature names, but DecisionTreeClassifier was fitted with feature names\n",
      "  \"X does not have valid feature names, but\"\n"
     ]
    },
    {
     "name": "stdout",
     "output_type": "stream",
     "text": [
      "Duration < 22.5\n",
      "InstallmentRatePercentage < 3.5\n",
      "Age < 32.5\n",
      "CheckingAccountStatus.none < 0.5\n",
      "CreditHistory.Critical < 0.5\n",
      "\n"
     ]
    },
    {
     "data": {
      "image/png": "[encoded data removed]",
      "text/plain": [
       "<Figure size 720x360 with 1 Axes>"
      ]
     },
     "metadata": {
      "needs_background": "light"
     },
     "output_type": "display_data"
    },
    {
     "data": {
      "image/png": "[encoded data removed]",
      "text/plain": [
       "<Figure size 720x360 with 1 Axes>"
      ]
     },
     "metadata": {
      "needs_background": "light"
     },
     "output_type": "display_data"
    }
   ],
   "source": [
    "# Your code here! :)\n",
    "from dtreeviz import trees\n",
    "\n",
    "features = X.columns\n",
    "\n",
    "trees.viz_leaf_samples(tree, X, features)\n",
    "\n",
    "datapoint = X.iloc[10]\n",
    "trees.explain_prediction_path(tree, datapoint, feature_names = features, explanation_type = 'sklearn_default')\n",
    "print(trees.explain_prediction_path(tree, datapoint, feature_names = features, explanation_type = 'plain_english'))"
   ]
  },
  {
   "cell_type": "markdown",
   "metadata": {},
   "source": [
    "## Random Forests"
   ]
  },
  {
   "cell_type": "markdown",
   "metadata": {},
   "source": [
    "As discussed in the lecture videos, Decision Tree algorithms also have certain undesireable properties. Mainly the have low bias, which is good, but tend to have high variance - which is *not* so good (more about this problem here: https://en.wikipedia.org/wiki/Bias%E2%80%93variance_tradeoff)."
   ]
  },
  {
   "cell_type": "markdown",
   "metadata": {},
   "source": [
    "Noticing these problems, the late Professor Leo Breiman, in 2001, developed the Random Forests algorithm, which mitigates these problems, while at the same time providing even higher predictive accuracy than the majority of Decision Tree algorithm implementations. While the curriculum contains two excellent lectures on Random Forests, if you're interested, you can dive into the original paper here: https://link.springer.com/content/pdf/10.1023%2FA%3A1010933404324.pdf."
   ]
  },
  {
   "cell_type": "markdown",
   "metadata": {},
   "source": [
    "In the next part of this assignment, your are going to use the same \"German Credit\" dataset to train, tune, and measure the performance of a Random Forests model. You will also see certain functionalities that this model, even though it's a bit of a \"black box\", provides for some degree of interpretability."
   ]
  },
  {
   "cell_type": "markdown",
   "metadata": {},
   "source": [
    "First, let's build a Random Forests model, using the same best practices that you've used for your Decision Trees model. You can reuse the things you've already imported there, so no need to do any re-imports, new train/test splits, or loading up the data again."
   ]
  },
  {
   "cell_type": "code",
   "execution_count": 28,
   "metadata": {},
   "outputs": [],
   "source": [
    "from sklearn.ensemble import RandomForestClassifier"
   ]
  },
  {
   "cell_type": "code",
   "execution_count": 35,
   "metadata": {},
   "outputs": [
    {
     "name": "stdout",
     "output_type": "stream",
     "text": [
      "best score:  0.7614285714285713\n",
      "best param:  {'criterion': 'gini', 'min_samples_leaf': 2}\n"
     ]
    }
   ],
   "source": [
    "# Your code here! :)\n",
    "forest = RandomForestClassifier()\n",
    "parameters = {\n",
    "    'criterion': ['gini', 'entropy'],\n",
    "    'min_samples_leaf' : [1,2,5,10,50,100]\n",
    "}\n",
    "grid = GridSearchCV(forest, parameters)\n",
    "grid.fit(X_train, y_train)\n",
    "print(\"best score: \", grid.best_score_)\n",
    "print('best param: ', grid.best_params_)"
   ]
  },
  {
   "cell_type": "code",
   "execution_count": 37,
   "metadata": {},
   "outputs": [
    {
     "data": {
      "text/plain": [
       "0.7766666666666666"
      ]
     },
     "execution_count": 37,
     "metadata": {},
     "output_type": "execute_result"
    }
   ],
   "source": [
    "forest = RandomForestClassifier(random_state = 0, criterion = 'gini', min_samples_leaf = 2)\n",
    "forest.fit(X_train, y_train)\n",
    "forest.score(X_test, y_test)"
   ]
  },
  {
   "cell_type": "markdown",
   "metadata": {},
   "source": [
    "As mentioned, there are certain ways to \"peek\" into a model created by the Random Forests algorithm. The first, and most popular one, is the Feature Importance calculation functionality. This allows the ML practitioner to see an ordering of the importance of the features that have contributed the most to the predictive accuracy of the model. \n",
    "\n",
    "You can see how to use this in the scikit-learn documentation (http://scikit-learn.org/stable/modules/generated/sklearn.ensemble.RandomForestClassifier.html#sklearn.ensemble.RandomForestClassifier.feature_importances_). Now, if you tried this, you would just get an ordered table of not directly interpretable numeric values. Thus, it's much more useful to show the feature importance in a visual way. You can see an example of how that's done here: http://scikit-learn.org/stable/auto_examples/ensemble/plot_forest_importances.html#sphx-glr-auto-examples-ensemble-plot-forest-importances-py\n",
    "\n",
    "Now you try! Let's visualize the importance of features from your Random Forests model!"
   ]
  },
  {
   "cell_type": "code",
   "execution_count": 39,
   "metadata": {},
   "outputs": [
    {
     "name": "stdout",
     "output_type": "stream",
     "text": [
      "Feature ranking:\n",
      "1. feature 1 (0.108292)\n",
      "2. feature 4 (0.080992)\n",
      "3. feature 0 (0.079814)\n",
      "4. feature 12 (0.060027)\n",
      "5. feature 9 (0.053786)\n",
      "6. feature 17 (0.039073)\n",
      "7. feature 2 (0.037951)\n",
      "8. feature 3 (0.027815)\n",
      "9. feature 29 (0.021480)\n",
      "10. feature 10 (0.020813)\n",
      "11. feature 53 (0.019155)\n",
      "12. feature 18 (0.018068)\n",
      "13. feature 7 (0.017211)\n",
      "14. feature 15 (0.017183)\n",
      "15. feature 47 (0.016174)\n",
      "16. feature 33 (0.016005)\n",
      "17. feature 5 (0.015639)\n",
      "18. feature 13 (0.014879)\n",
      "19. feature 59 (0.014872)\n",
      "20. feature 51 (0.014804)\n",
      "21. feature 55 (0.014620)\n",
      "22. feature 41 (0.014589)\n",
      "23. feature 35 (0.013209)\n",
      "24. feature 40 (0.012955)\n",
      "25. feature 49 (0.012948)\n",
      "26. feature 34 (0.012381)\n",
      "27. feature 37 (0.012128)\n",
      "28. feature 21 (0.011974)\n",
      "29. feature 19 (0.011804)\n",
      "30. feature 20 (0.011738)\n",
      "31. feature 48 (0.011209)\n",
      "32. feature 50 (0.011066)\n",
      "33. feature 54 (0.010993)\n",
      "34. feature 36 (0.010930)\n",
      "35. feature 60 (0.010586)\n",
      "36. feature 27 (0.010026)\n",
      "37. feature 58 (0.009675)\n",
      "38. feature 44 (0.009105)\n",
      "39. feature 6 (0.008724)\n",
      "40. feature 16 (0.007712)\n",
      "41. feature 14 (0.007668)\n",
      "42. feature 32 (0.007212)\n",
      "43. feature 38 (0.007093)\n",
      "44. feature 30 (0.006413)\n",
      "45. feature 45 (0.006288)\n",
      "46. feature 46 (0.006043)\n",
      "47. feature 56 (0.005952)\n",
      "48. feature 42 (0.005124)\n",
      "49. feature 52 (0.004757)\n",
      "50. feature 11 (0.004674)\n",
      "51. feature 39 (0.004232)\n",
      "52. feature 31 (0.003479)\n",
      "53. feature 24 (0.002854)\n",
      "54. feature 23 (0.001994)\n",
      "55. feature 22 (0.001531)\n",
      "56. feature 8 (0.001407)\n",
      "57. feature 57 (0.000474)\n",
      "58. feature 28 (0.000297)\n",
      "59. feature 26 (0.000107)\n",
      "60. feature 43 (0.000000)\n",
      "61. feature 25 (0.000000)\n"
     ]
    },
    {
     "data": {
      "image/png": "[encoded data removed]",
      "text/plain": [
       "<Figure size 432x288 with 1 Axes>"
      ]
     },
     "metadata": {
      "needs_background": "light"
     },
     "output_type": "display_data"
    }
   ],
   "source": [
    "# Your code here\n",
    "import numpy as np\n",
    "import matplotlib.pyplot as plt\n",
    "\n",
    "importances = forest.feature_importances_\n",
    "std = np.std([tree.feature_importances_ for tree in forest.estimators_],\n",
    "             axis=0)\n",
    "indices = np.argsort(importances)[::-1]\n",
    "\n",
    "print(\"Feature ranking:\")\n",
    "\n",
    "for f in range(X.shape[1]):\n",
    "    print(\"%d. feature %d (%f)\" % (f + 1, indices[f], importances[indices[f]]))\n",
    "\n",
    "plt.figure()\n",
    "plt.title(\"Feature importances\")\n",
    "plt.bar(range(X.shape[1]), importances[indices],\n",
    "        color=\"r\", yerr=std[indices], align=\"center\")\n",
    "plt.xticks(range(X.shape[1]), indices)\n",
    "plt.xlim([-1, X.shape[1]])\n",
    "plt.show()"
   ]
  },
  {
   "cell_type": "markdown",
   "metadata": {},
   "source": [
    "A final method for gaining some insight into the inner working of your Random Forests models is a so-called Partial Dependence Plot. The Partial Dependence Plot (PDP or PD plot) shows the marginal effect of a feature on the predicted outcome of a previously fit model. The prediction function is fixed at a few values of the chosen features and averaged over the other features. A partial dependence plot can show if the relationship between the target and a feature is linear, monotonic or more complex. \n",
    "\n",
    "In scikit-learn, PDPs are implemented and available for certain algorithms, but at this point (version 0.20.0) they are not yet implemented for Random Forests. Thankfully, there is an add-on package called **PDPbox** (https://pdpbox.readthedocs.io/en/latest/) which adds this functionality to Random Forests. The package is easy to install through pip."
   ]
  },
  {
   "cell_type": "code",
   "execution_count": 40,
   "metadata": {},
   "outputs": [
    {
     "name": "stdout",
     "output_type": "stream",
     "text": [
      "Defaulting to user installation because normal site-packages is not writeable\n",
      "Collecting pdpbox\n",
      "  Downloading PDPbox-0.2.1.tar.gz (34.0 MB)\n",
      "Requirement already satisfied: pandas in c:\\programdata\\anaconda3\\envs\\mec-miniprojects\\lib\\site-packages (from pdpbox) (1.3.5)\n",
      "Requirement already satisfied: numpy in c:\\programdata\\anaconda3\\envs\\mec-miniprojects\\lib\\site-packages (from pdpbox) (1.21.6)\n",
      "Requirement already satisfied: scipy in c:\\users\\barrett\\appdata\\roaming\\python\\python37\\site-packages (from pdpbox) (1.7.3)\n",
      "Requirement already satisfied: joblib in c:\\users\\barrett\\appdata\\roaming\\python\\python37\\site-packages (from pdpbox) (1.1.0)\n",
      "Collecting psutil\n",
      "  Downloading psutil-5.9.2-cp37-cp37m-win_amd64.whl (246 kB)\n",
      "Collecting matplotlib==3.1.1\n",
      "  Downloading matplotlib-3.1.1-cp37-cp37m-win_amd64.whl (9.1 MB)\n",
      "Collecting sklearn\n",
      "  Downloading sklearn-0.0.tar.gz (1.1 kB)\n",
      "Requirement already satisfied: pyparsing!=2.0.4,!=2.1.2,!=2.1.6,>=2.0.1 in c:\\programdata\\anaconda3\\envs\\mec-miniprojects\\lib\\site-packages (from matplotlib==3.1.1->pdpbox) (3.0.4)\n",
      "Requirement already satisfied: cycler>=0.10 in c:\\users\\barrett\\appdata\\roaming\\python\\python37\\site-packages (from matplotlib==3.1.1->pdpbox) (0.11.0)\n",
      "Requirement already satisfied: kiwisolver>=1.0.1 in c:\\users\\barrett\\appdata\\roaming\\python\\python37\\site-packages (from matplotlib==3.1.1->pdpbox) (1.4.3)\n",
      "Requirement already satisfied: python-dateutil>=2.1 in c:\\programdata\\anaconda3\\envs\\mec-miniprojects\\lib\\site-packages (from matplotlib==3.1.1->pdpbox) (2.8.2)\n",
      "Requirement already satisfied: typing-extensions in c:\\programdata\\anaconda3\\envs\\mec-miniprojects\\lib\\site-packages (from kiwisolver>=1.0.1->matplotlib==3.1.1->pdpbox) (4.1.1)\n",
      "Requirement already satisfied: six>=1.5 in c:\\programdata\\anaconda3\\envs\\mec-miniprojects\\lib\\site-packages (from python-dateutil>=2.1->matplotlib==3.1.1->pdpbox) (1.16.0)\n",
      "Requirement already satisfied: pytz>=2017.3 in c:\\programdata\\anaconda3\\envs\\mec-miniprojects\\lib\\site-packages (from pandas->pdpbox) (2022.1)\n",
      "Requirement already satisfied: scikit-learn in c:\\users\\barrett\\appdata\\roaming\\python\\python37\\site-packages (from sklearn->pdpbox) (1.0.2)\n",
      "Requirement already satisfied: threadpoolctl>=2.0.0 in c:\\users\\barrett\\appdata\\roaming\\python\\python37\\site-packages (from scikit-learn->sklearn->pdpbox) (3.1.0)\n",
      "Building wheels for collected packages: pdpbox, sklearn\n",
      "  Building wheel for pdpbox (setup.py): started\n",
      "  Building wheel for pdpbox (setup.py): finished with status 'done'\n",
      "  Created wheel for pdpbox: filename=PDPbox-0.2.1-py3-none-any.whl size=35758238 sha256=512c456d84d47130ae37c431a123ce42e7fa41133213ad71ab2d59639774fcb7\n",
      "  Stored in directory: c:\\users\\barrett\\appdata\\local\\pip\\cache\\wheels\\f4\\d0\\1a\\b80035625c53131f52906a6fc4dd690d8efd2bf8af6a4015eb\n",
      "  Building wheel for sklearn (setup.py): started\n",
      "  Building wheel for sklearn (setup.py): finished with status 'done'\n",
      "  Created wheel for sklearn: filename=sklearn-0.0-py2.py3-none-any.whl size=1310 sha256=98046675d588f0e60101d7f205b23239938d6e3807e589fb3cdef1a541e25cb3\n",
      "  Stored in directory: c:\\users\\barrett\\appdata\\local\\pip\\cache\\wheels\\46\\ef\\c3\\157e41f5ee1372d1be90b09f74f82b10e391eaacca8f22d33e\n",
      "Successfully built pdpbox sklearn\n",
      "Installing collected packages: sklearn, psutil, matplotlib, pdpbox\n",
      "  Attempting uninstall: matplotlib\n",
      "    Found existing installation: matplotlib 3.5.2\n",
      "    Uninstalling matplotlib-3.5.2:\n"
     ]
    },
    {
     "name": "stderr",
     "output_type": "stream",
     "text": [
      "ERROR: Could not install packages due to an OSError: [WinError 5] Access is denied: 'c:\\\\users\\\\barrett\\\\appdata\\\\roaming\\\\python\\\\python37\\\\site-packages\\\\matplotlib\\\\backends\\\\_backend_agg.cp37-win_amd64.pyd'\n",
      "Check the permissions.\n",
      "\n"
     ]
    }
   ],
   "source": [
    "! pip install pdpbox"
   ]
  },
  {
   "cell_type": "markdown",
   "metadata": {},
   "source": [
    "While we encourage you to read the documentation for the package (and reading package documentation in general is a good habit to develop), the authors of the package have also written an excellent blog post on how to use it, showing examples on different algorithms from scikit-learn (the Random Forests example is towards the end of the blog post): https://briangriner.github.io/Partial_Dependence_Plots_presentation-BrianGriner-PrincetonPublicLibrary-4.14.18-updated-4.22.18.html"
   ]
  },
  {
   "cell_type": "markdown",
   "metadata": {},
   "source": [
    "So, armed with this new knowledge, feel free to pick a few features, and make a couple of Partial Dependence Plots of your own!"
   ]
  },
  {
   "cell_type": "code",
   "execution_count": null,
   "metadata": {},
   "outputs": [],
   "source": [
    "# Your code here!"
   ]
  },
  {
   "cell_type": "markdown",
   "metadata": {},
   "source": [
    "## (Optional) Advanced Boosting-Based Algorithms"
   ]
  },
  {
   "cell_type": "markdown",
   "metadata": {},
   "source": [
    "As explained in the video lectures, the next generation of algorithms after Random Forests (that use Bagging, a.k.a. Bootstrap Aggregation) were developed using Boosting, and the first one of these were Gradient Boosted Machines, which are implemented in scikit-learn (http://scikit-learn.org/stable/modules/ensemble.html#gradient-tree-boosting)."
   ]
  },
  {
   "cell_type": "markdown",
   "metadata": {},
   "source": [
    "Still, in recent years, a number of variations on GBMs have been developed by different research amd industry groups, all of them bringing improvements, both in speed, accuracy and functionality to the original Gradient Boosting algorithms.\n",
    "\n",
    "In no order of preference, these are:\n",
    "1. **XGBoost**: https://xgboost.readthedocs.io/en/latest/\n",
    "2. **CatBoost**: https://tech.yandex.com/catboost/\n",
    "3. **LightGBM**: https://lightgbm.readthedocs.io/en/latest/"
   ]
  },
  {
   "cell_type": "markdown",
   "metadata": {},
   "source": [
    "If you're using the Anaconda distribution, these are all very easy to install:"
   ]
  },
  {
   "cell_type": "code",
   "execution_count": null,
   "metadata": {},
   "outputs": [],
   "source": [
    "! conda install -c anaconda py-xgboost"
   ]
  },
  {
   "cell_type": "code",
   "execution_count": null,
   "metadata": {},
   "outputs": [],
   "source": [
    "! conda install -c conda-forge catboost"
   ]
  },
  {
   "cell_type": "code",
   "execution_count": null,
   "metadata": {},
   "outputs": [],
   "source": [
    "! conda install -c conda-forge lightgbm"
   ]
  },
  {
   "cell_type": "markdown",
   "metadata": {},
   "source": [
    "Your task in this optional section of the mini project is to read the documentation of these three libraries, and apply all of them to the \"German Credit\" dataset, just like you did in the case of Decision Trees and Random Forests."
   ]
  },
  {
   "cell_type": "markdown",
   "metadata": {},
   "source": [
    "The final deliverable of this section should be a table (can be a pandas DataFrame) which shows the accuracy of all the five algorthms taught in this mini project in one place."
   ]
  },
  {
   "cell_type": "markdown",
   "metadata": {},
   "source": [
    "Happy modeling! :)"
   ]
  },
  {
   "cell_type": "code",
   "execution_count": null,
   "metadata": {},
   "outputs": [],
   "source": []
  }
 ],
 "metadata": {
  "kernelspec": {
   "display_name": "Python 3 (ipykernel)",
   "language": "python",
   "name": "python3"
  },
  "language_info": {
   "codemirror_mode": {
    "name": "ipython",
    "version": 3
   },
   "file_extension": ".py",
   "mimetype": "text/x-python",
   "name": "python",
   "nbconvert_exporter": "python",
   "pygments_lexer": "ipython3",
   "version": "3.7.13"
  }
 },
 "nbformat": 4,
 "nbformat_minor": 4
}
